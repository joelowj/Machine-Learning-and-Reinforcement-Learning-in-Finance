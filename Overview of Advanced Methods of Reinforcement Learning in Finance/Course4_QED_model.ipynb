{
 "cells": [
  {
   "cell_type": "markdown",
   "metadata": {},
   "source": [
    "## Econometric estimation of an IRL-based market portfolio model. Part II: QED\n",
    "\n",
    "Welcome to your final course project on Advanced Topic RL in Finance. In this project you will: \n",
    "\n",
    "- Explore and estimate an IRL-based model of market returns (the \"QED\" model) that is obtained by a generalization of   a model that you analyzed in the previous course\n",
    "- Respectively, you are expected to re-utilize parts of your previous code from the course project from Course 3: RL (but you can also start from scratch - the template provided here is nearly identical to the one offered to you in course 3)\n",
    "- Investige the role of non-linearities in price dynamics\n",
    "- Investigate the role and impact of choices of different signals on model estimation and trading strategies\n",
    " \n",
    "\n",
    "**Instructions for project structure and grading principles :**\n",
    "\n",
    "- This is a project that will be graded based on a peer-to-peer review. The project consists of four parts. The maximum score for each part is 10, so that maximum score you can give your peers (and they can give you) is 40. The parts are as follows (more detailed instructions are in specific cells below):\n",
    "\n",
    "- **Part 1**: Estimate the model using the DJI portfolio of 30 stocks, first without signals, and then using simple signals such as simple moving averages constructed below (Max 10 point).\n",
    "\n",
    "- **Part 2**: Explore the implications of calibrated model parameters for default probabilities of stocks in your portfolio. Present your conclusions and observations. (Max 10 point).\n",
    "\n",
    "- **Part 3**: Experiment with other signals and investigate the impact on model calibration obtained with alternative signals. Present your conclusions and observations. (Max 10 points).\n",
    "\n",
    "- **Part 4** : Show me something else. This part is optional. Come up with your own idea of an interesting analysis.\n",
    "For example, you can repeat your analysis for the S&P portfolio.\n",
    "Or maybe you can build a strategy using an optimal market-implied policy estimated from this model, and compare it with PCA and absorption ratio strategies that we built in Course 2. Or anything else.  (Max 10 points).\n",
    "\n",
    "**Instructions for formatting your notebook and packages use can use **\n",
    "\n",
    "- Use one or more cells of the notebook for each section of the project. Each section is marked by a header cell below. Insert your cells between them without changing the sequence. \n",
    "\n",
    "- Think of an optimal presentation of your results and conclusions. Think of how hard or easy it will be for your fellow students to follow your logic and presentation. When you are grading others, you can add or subtract point for the quality of presentation.\n",
    "\n",
    "- You will be using Python 3 in this project. Using TensorFlow is encouraged but is not strictly necessary, you can use optimization algorithms available in scipy or scikit-learn packages. If you use any non-standard packages, you should state all neccessary additional imports (or instructions how to install any additional modules you use in a top cell of your notebook. If you create a new portfolio for parts 3 and 4 in the project, make your code for creating your dataset replicable as well, so that your grader can reproduce your code locally on his/her machine.   \n",
    "\n",
    "- Try to write a clean code that can be followed by your peer reviewer. When you are the reviewer, you can add or subtract point for the quality of code. \n",
    "\n",
    "\n",
    "**After completing this project you will:**\n",
    "- Get experience with building and estimation of your second IRL based model of market dynamics.\n",
    "- Develop intuition and understanding about the role of non-linearities in dynamics model. \n",
    "- Develop intuition on whether the same model could be calibrated to both equity and credit data.\n",
    "- Be able to implement trading strategies based on this method.\n",
    "\n",
    "Let's get started!"
   ]
  },
  {
   "cell_type": "markdown",
   "metadata": {},
   "source": [
    "help:\n",
    "\n",
    "https://www.coursera.org/learn/advanced-methods-reinforcement-learning-finance/discussions/weeks/4/threads/dBw8Q7LxEeiTjBLDL4RcNA\n",
    "\n",
    "\n",
    "https://www.coursera.org/learn/advanced-methods-reinforcement-learning-finance/discussions/weeks/4/threads/-8YAn5DDEeimKw6zhoSwxg"
   ]
  },
  {
   "cell_type": "markdown",
   "metadata": {},
   "source": [
    "## The \"Quantum Equlibrium-Disequlibrium\" (QED) IRL-based model of stock returns\n",
    "\n",
    "In Week 3 lectures of our course we presented the \"QED\" model\n",
    "$$\n",
    "d X_t = \\kappa X_t  \\left( \\frac{\\theta}{\\kappa} - X_t - \\frac{g}{\\kappa} X_t^2 \\right) dt +  X_t \\left( {\\bf w} {\\bf z}_t \\, dt + \\sigma d W_t \\right)\n",
    "$$\n",
    "\n",
    "In this project, you will explore calibration of this model to market data.\n",
    "As in the course project for course 3 you analyzed the same model in the limit $ g = 0 $, you would be able to re-utilize parts of your previous code in this project).\n"
   ]
  },
  {
   "cell_type": "code",
   "execution_count": 10,
   "metadata": {
    "collapsed": true
   },
   "outputs": [],
   "source": [
    "import pandas as pd\n",
    "import numpy as np\n",
    "import tensorflow as tf\n",
    "\n",
    "import matplotlib.pyplot as plt\n",
    "from datetime import datetime"
   ]
  },
  {
   "cell_type": "code",
   "execution_count": 11,
   "metadata": {
    "collapsed": true
   },
   "outputs": [],
   "source": [
    "# read the data to a Dataframe\n",
    "df_cap = pd.read_csv('dja_cap.csv')"
   ]
  },
  {
   "cell_type": "code",
   "execution_count": 12,
   "metadata": {},
   "outputs": [
    {
     "data": {
      "text/html": [
       "<div>\n",
       "<style scoped>\n",
       "    .dataframe tbody tr th:only-of-type {\n",
       "        vertical-align: middle;\n",
       "    }\n",
       "\n",
       "    .dataframe tbody tr th {\n",
       "        vertical-align: top;\n",
       "    }\n",
       "\n",
       "    .dataframe thead th {\n",
       "        text-align: right;\n",
       "    }\n",
       "</style>\n",
       "<table border=\"1\" class=\"dataframe\">\n",
       "  <thead>\n",
       "    <tr style=\"text-align: right;\">\n",
       "      <th></th>\n",
       "      <th>AAPL</th>\n",
       "      <th>AXP</th>\n",
       "      <th>BA</th>\n",
       "      <th>CAT</th>\n",
       "      <th>CSCO</th>\n",
       "      <th>CVX</th>\n",
       "      <th>DIS</th>\n",
       "      <th>DWDP</th>\n",
       "      <th>GE</th>\n",
       "      <th>GS</th>\n",
       "      <th>...</th>\n",
       "      <th>NKE</th>\n",
       "      <th>PFE</th>\n",
       "      <th>PG</th>\n",
       "      <th>TRV</th>\n",
       "      <th>UNH</th>\n",
       "      <th>UTX</th>\n",
       "      <th>V</th>\n",
       "      <th>VZ</th>\n",
       "      <th>WMT</th>\n",
       "      <th>XOM</th>\n",
       "    </tr>\n",
       "    <tr>\n",
       "      <th>date</th>\n",
       "      <th></th>\n",
       "      <th></th>\n",
       "      <th></th>\n",
       "      <th></th>\n",
       "      <th></th>\n",
       "      <th></th>\n",
       "      <th></th>\n",
       "      <th></th>\n",
       "      <th></th>\n",
       "      <th></th>\n",
       "      <th></th>\n",
       "      <th></th>\n",
       "      <th></th>\n",
       "      <th></th>\n",
       "      <th></th>\n",
       "      <th></th>\n",
       "      <th></th>\n",
       "      <th></th>\n",
       "      <th></th>\n",
       "      <th></th>\n",
       "      <th></th>\n",
       "    </tr>\n",
       "  </thead>\n",
       "  <tbody>\n",
       "    <tr>\n",
       "      <th>2010-01-04</th>\n",
       "      <td>1.937537e+11</td>\n",
       "      <td>48660795480</td>\n",
       "      <td>4.082033e+10</td>\n",
       "      <td>36460724400</td>\n",
       "      <td>1.420313e+11</td>\n",
       "      <td>1.586155e+11</td>\n",
       "      <td>6.168697e+10</td>\n",
       "      <td>3.337392e+10</td>\n",
       "      <td>1.645038e+11</td>\n",
       "      <td>8.897731e+10</td>\n",
       "      <td>...</td>\n",
       "      <td>25598248500</td>\n",
       "      <td>1.527563e+11</td>\n",
       "      <td>178576382080</td>\n",
       "      <td>27214839130</td>\n",
       "      <td>36638396010</td>\n",
       "      <td>67155918570</td>\n",
       "      <td>41337043020</td>\n",
       "      <td>94536765440</td>\n",
       "      <td>206625627560</td>\n",
       "      <td>3.272107e+11</td>\n",
       "    </tr>\n",
       "    <tr>\n",
       "      <th>2010-01-05</th>\n",
       "      <td>1.940887e+11</td>\n",
       "      <td>48553770270</td>\n",
       "      <td>4.215727e+10</td>\n",
       "      <td>36896634000</td>\n",
       "      <td>1.413985e+11</td>\n",
       "      <td>1.597391e+11</td>\n",
       "      <td>6.153308e+10</td>\n",
       "      <td>3.486077e+10</td>\n",
       "      <td>1.653556e+11</td>\n",
       "      <td>9.055040e+10</td>\n",
       "      <td>...</td>\n",
       "      <td>25700093100</td>\n",
       "      <td>1.505775e+11</td>\n",
       "      <td>178634816760</td>\n",
       "      <td>26570118990</td>\n",
       "      <td>36580295160</td>\n",
       "      <td>66152751840</td>\n",
       "      <td>40863360090</td>\n",
       "      <td>94707204320</td>\n",
       "      <td>204568134680</td>\n",
       "      <td>3.284884e+11</td>\n",
       "    </tr>\n",
       "    <tr>\n",
       "      <th>2010-01-06</th>\n",
       "      <td>1.910015e+11</td>\n",
       "      <td>49338621810</td>\n",
       "      <td>4.343609e+10</td>\n",
       "      <td>37008725040</td>\n",
       "      <td>1.404781e+11</td>\n",
       "      <td>1.597591e+11</td>\n",
       "      <td>6.120609e+10</td>\n",
       "      <td>3.547838e+10</td>\n",
       "      <td>1.645038e+11</td>\n",
       "      <td>8.958393e+10</td>\n",
       "      <td>...</td>\n",
       "      <td>25543409100</td>\n",
       "      <td>1.500934e+11</td>\n",
       "      <td>177787513900</td>\n",
       "      <td>26193121620</td>\n",
       "      <td>36940520430</td>\n",
       "      <td>65805862410</td>\n",
       "      <td>40314638280</td>\n",
       "      <td>90673484160</td>\n",
       "      <td>204110914040</td>\n",
       "      <td>3.313275e+11</td>\n",
       "    </tr>\n",
       "    <tr>\n",
       "      <th>2010-01-07</th>\n",
       "      <td>1.906484e+11</td>\n",
       "      <td>49921314620</td>\n",
       "      <td>4.519446e+10</td>\n",
       "      <td>37158179760</td>\n",
       "      <td>1.411109e+11</td>\n",
       "      <td>1.591572e+11</td>\n",
       "      <td>6.122532e+10</td>\n",
       "      <td>3.550126e+10</td>\n",
       "      <td>1.730218e+11</td>\n",
       "      <td>9.133695e+10</td>\n",
       "      <td>...</td>\n",
       "      <td>26172872700</td>\n",
       "      <td>1.495285e+11</td>\n",
       "      <td>176823341680</td>\n",
       "      <td>26570118990</td>\n",
       "      <td>38358181170</td>\n",
       "      <td>66087124110</td>\n",
       "      <td>40689832680</td>\n",
       "      <td>90133761040</td>\n",
       "      <td>204225219200</td>\n",
       "      <td>3.302865e+11</td>\n",
       "    </tr>\n",
       "    <tr>\n",
       "      <th>2010-01-08</th>\n",
       "      <td>1.919159e+11</td>\n",
       "      <td>49885639550</td>\n",
       "      <td>4.475850e+10</td>\n",
       "      <td>37575407520</td>\n",
       "      <td>1.418587e+11</td>\n",
       "      <td>1.594381e+11</td>\n",
       "      <td>6.132150e+10</td>\n",
       "      <td>3.562706e+10</td>\n",
       "      <td>1.767484e+11</td>\n",
       "      <td>8.960963e+10</td>\n",
       "      <td>...</td>\n",
       "      <td>26121202640</td>\n",
       "      <td>1.507389e+11</td>\n",
       "      <td>176589602960</td>\n",
       "      <td>26531872880</td>\n",
       "      <td>37997955900</td>\n",
       "      <td>66218379570</td>\n",
       "      <td>40802391000</td>\n",
       "      <td>90190574000</td>\n",
       "      <td>203196472760</td>\n",
       "      <td>3.289615e+11</td>\n",
       "    </tr>\n",
       "  </tbody>\n",
       "</table>\n",
       "<p>5 rows × 30 columns</p>\n",
       "</div>"
      ],
      "text/plain": [
       "                    AAPL          AXP            BA          CAT  \\\n",
       "date                                                               \n",
       "2010-01-04  1.937537e+11  48660795480  4.082033e+10  36460724400   \n",
       "2010-01-05  1.940887e+11  48553770270  4.215727e+10  36896634000   \n",
       "2010-01-06  1.910015e+11  49338621810  4.343609e+10  37008725040   \n",
       "2010-01-07  1.906484e+11  49921314620  4.519446e+10  37158179760   \n",
       "2010-01-08  1.919159e+11  49885639550  4.475850e+10  37575407520   \n",
       "\n",
       "                    CSCO           CVX           DIS          DWDP  \\\n",
       "date                                                                 \n",
       "2010-01-04  1.420313e+11  1.586155e+11  6.168697e+10  3.337392e+10   \n",
       "2010-01-05  1.413985e+11  1.597391e+11  6.153308e+10  3.486077e+10   \n",
       "2010-01-06  1.404781e+11  1.597591e+11  6.120609e+10  3.547838e+10   \n",
       "2010-01-07  1.411109e+11  1.591572e+11  6.122532e+10  3.550126e+10   \n",
       "2010-01-08  1.418587e+11  1.594381e+11  6.132150e+10  3.562706e+10   \n",
       "\n",
       "                      GE            GS  ...          NKE           PFE  \\\n",
       "date                                    ...                              \n",
       "2010-01-04  1.645038e+11  8.897731e+10  ...  25598248500  1.527563e+11   \n",
       "2010-01-05  1.653556e+11  9.055040e+10  ...  25700093100  1.505775e+11   \n",
       "2010-01-06  1.645038e+11  8.958393e+10  ...  25543409100  1.500934e+11   \n",
       "2010-01-07  1.730218e+11  9.133695e+10  ...  26172872700  1.495285e+11   \n",
       "2010-01-08  1.767484e+11  8.960963e+10  ...  26121202640  1.507389e+11   \n",
       "\n",
       "                      PG          TRV          UNH          UTX            V  \\\n",
       "date                                                                           \n",
       "2010-01-04  178576382080  27214839130  36638396010  67155918570  41337043020   \n",
       "2010-01-05  178634816760  26570118990  36580295160  66152751840  40863360090   \n",
       "2010-01-06  177787513900  26193121620  36940520430  65805862410  40314638280   \n",
       "2010-01-07  176823341680  26570118990  38358181170  66087124110  40689832680   \n",
       "2010-01-08  176589602960  26531872880  37997955900  66218379570  40802391000   \n",
       "\n",
       "                     VZ           WMT           XOM  \n",
       "date                                                 \n",
       "2010-01-04  94536765440  206625627560  3.272107e+11  \n",
       "2010-01-05  94707204320  204568134680  3.284884e+11  \n",
       "2010-01-06  90673484160  204110914040  3.313275e+11  \n",
       "2010-01-07  90133761040  204225219200  3.302865e+11  \n",
       "2010-01-08  90190574000  203196472760  3.289615e+11  \n",
       "\n",
       "[5 rows x 30 columns]"
      ]
     },
     "execution_count": 12,
     "metadata": {},
     "output_type": "execute_result"
    }
   ],
   "source": [
    "# add dates\n",
    "dates = pd.bdate_range(start='2010-01-04', end=None, periods=df_cap.shape[0], freq='B')\n",
    "df_cap['date'] = dates\n",
    "\n",
    "df_cap.set_index('date',inplace=True)\n",
    "df_cap.head()\n"
   ]
  },
  {
   "cell_type": "markdown",
   "metadata": {},
   "source": [
    "## Let us build some signals \n",
    "\n",
    "Here we provide a \"warm start\" by computing two simple moving average signals that you can use as benchmark in your analysis."
   ]
  },
  {
   "cell_type": "markdown",
   "metadata": {},
   "source": [
    "### Generate moving averages"
   ]
  },
  {
   "cell_type": "code",
   "execution_count": 14,
   "metadata": {
    "collapsed": true
   },
   "outputs": [],
   "source": [
    "# Calculating the short-window (10 days) simple moving average\n",
    "\n",
    "window_1 = 10\n",
    "\n",
    "short_rolling = df_cap.rolling(window=window_1).mean()\n",
    "# short_rolling.head(20)"
   ]
  },
  {
   "cell_type": "code",
   "execution_count": 15,
   "metadata": {
    "collapsed": true
   },
   "outputs": [],
   "source": [
    "# Calculating the long-window (30 days) simple moving average\n",
    "\n",
    "window_2 = 30\n",
    "long_rolling = df_cap.rolling(window=window_2).mean()\n",
    "# long_rolling.tail()"
   ]
  },
  {
   "cell_type": "markdown",
   "metadata": {},
   "source": [
    "### Plot three years of AAPL stock:"
   ]
  },
  {
   "cell_type": "code",
   "execution_count": 18,
   "metadata": {},
   "outputs": [
    {
     "name": "stderr",
     "output_type": "stream",
     "text": [
      "/home/xueshan/anaconda3/lib/python3.7/site-packages/pandas/plotting/_converter.py:129: FutureWarning: Using an implicitly registered datetime converter for a matplotlib plotting method. The converter was registered by pandas on import. Future versions of pandas will require you to explicitly register matplotlib converters.\n",
      "\n",
      "To register the converters:\n",
      "\t>>> from pandas.plotting import register_matplotlib_converters\n",
      "\t>>> register_matplotlib_converters()\n",
      "  warnings.warn(msg, FutureWarning)\n"
     ]
    },
    {
     "data": {
      "image/png": "[encoded data removed]",
      "text/plain": [
       "<Figure size 720x432 with 1 Axes>"
      ]
     },
     "metadata": {
      "needs_background": "light"
     },
     "output_type": "display_data"
    }
   ],
   "source": [
    "start_date = '2015-01-01'\n",
    "end_date = '2017-12-31'\n",
    "\n",
    "fig = plt.figure(figsize=(10,6))\n",
    "ax = fig.add_subplot(1,1,1)\n",
    "\n",
    "ax.plot(df_cap.loc[start_date:end_date, :].index, df_cap.loc[start_date:end_date, 'AAPL'], label='Cap')\n",
    "ax.plot(long_rolling.loc[start_date:end_date, :].index, long_rolling.loc[start_date:end_date, 'AAPL'], \n",
    "          label = '%d-days SMA' % window_2)\n",
    "ax.plot(short_rolling.loc[start_date:end_date, :].index, short_rolling.loc[start_date:end_date, 'AAPL'], \n",
    "         label = '%d-days SMA' % window_1)\n",
    "\n",
    "ax.legend(loc='best')\n",
    "ax.set_ylabel('Cap in $')\n",
    "\n",
    "plt.show()"
   ]
  },
  {
   "cell_type": "markdown",
   "metadata": {},
   "source": [
    "## Part 1: Model calibration with or without moving average signals (Max 10 points)"
   ]
  },
  {
   "cell_type": "markdown",
   "metadata": {},
   "source": [
    "To calibrate the model, it is convenient to use the log-prices instead of prices. Diffusion in the log-space \n",
    "$ y = \\log x $ is given by the following Langevin equation:\n",
    "\n",
    "$$\n",
    "d y_t = - \\frac{ \\partial V(y)}{\\partial y} dt + \\sigma dW_t , \\; \\; \\;  V(y)  \\equiv - \\left( \\theta - \\frac{\\sigma^2}{2} + {\\bf w} {\\bf z}_t \\right) y  + \\kappa e^y + \\frac{1}{2} g e^{2y}\n",
    "$$\n",
    "\n",
    "where $ W_t $ is a standard Brownian motion.\n",
    "In terms of variables $ y = \\log x $, the negative log-likelihood of data is therefore\n",
    "\n",
    "$$\n",
    "LL_M (\\Theta) = - \\log \\prod_{t=0}^{T-1} \n",
    "\\frac{1}{ \\sqrt{ 2 \\pi  \\sigma^2}  } \n",
    "\\exp \\left\\{  - \\frac{1}{2 \\sigma^2} \\left(   \\frac{ y_{t+ \\Delta t} -   y_{t}}{ \\Delta t} +  \\frac{ \\partial V(y)}{\\partial y}   \n",
    "\\right)^2\n",
    "\\right\\} , \n",
    "$$ \n",
    "\n",
    "where $ {\\bf y}_t  = \\log x_t $  now stands for observed values of log-cap. Note that because the model is Markov, the product over $ t = 0, \\ldots, T-1 $ does not \n",
    "necessarily mean a product of transitions along the same trajectory. The negative log-likelihood should be minimized to estimate parameters $ \n",
    "\\theta $, $ \\sigma $, $ \\kappa $, $ g $ and  $ {\\bf w} $. You can try to estimate the model first without signals, then with signals.\n"
   ]
  },
  {
   "cell_type": "code",
   "execution_count": 19,
   "metadata": {},
   "outputs": [
    {
     "data": {
      "text/plain": [
       "(2080, 30)"
      ]
     },
     "execution_count": 19,
     "metadata": {},
     "output_type": "execute_result"
    }
   ],
   "source": [
    "# utility function  to reset the TF graph to the same state each time\n",
    "def reset_graph(seed=42):\n",
    "    # to make results reproducible across runs\n",
    "    tf.reset_default_graph()\n",
    "    tf.set_random_seed(seed)\n",
    "    np.random.seed(seed)\n",
    "    \n",
    "# 30 stocks & 2080 days\n",
    "df_cap.shape"
   ]
  },
  {
   "cell_type": "code",
   "execution_count": 69,
   "metadata": {
    "collapsed": true
   },
   "outputs": [],
   "source": [
    "# Put the rest of you code and analysis for Part I here \n",
    "class QED_MLE_Model:\n",
    "    \n",
    "    def __init__(self, ndim, learning_rate):\n",
    "        # stock assets\n",
    "        self.x = tf.placeholder(tf.float32, [None, ndim], name = 'x')\n",
    "        self.y = tf.log(self.x) # dim 0 days dim 1 stocks\n",
    "        # predictors\n",
    "        self.z_1 = tf.placeholder(tf.float32, [None, ndim], name='z_1')\n",
    "        self.z_2 = tf.placeholder(tf.float32, [None, ndim], name='z_2')\n",
    "        \n",
    "        # k mean reversion speed\n",
    "        self.k = tf.Variable(tf.random_uniform([ndim], minval=0.,maxval=1), name='k') + 0.0001\n",
    "        # variance of each assets(ndim)\n",
    "        self.sigma = tf.Variable(tf.square(tf.random_uniform([ndim], minval=0., maxval=1))) + 0.0001\n",
    "        self.theta = tf.Variable(tf.square(tf.random_uniform([ndim], minval=0., maxval=1))) + 0.0001\n",
    "        self.g = tf.Variable(tf.random_uniform([ndim], minval=0.,maxval=1), name='k') + 0.0001\n",
    "        \n",
    "        self.w_1 = tf.random_normal([ndim], mean=0.5, stddev = 0.1)\n",
    "        self.w_2 = tf.ones([ndim]) - self.w_1\n",
    "        \n",
    "        # mean of all stock assets delta is constant zero\n",
    "        self.mu = tf.zeros([ndim])\n",
    "        \n",
    "        self.scale = tf.slice(self.y, [0,0], [1,-1])\n",
    "\n",
    "        self.z = self.scale * tf.cumprod(1 + self.z_1*self.w_1 + self.z_2*self.w_2)\n",
    "        \n",
    "        self.v = - tf.multiply((self.theta - tf.square(self.theta)/2.0 + self.z), self.y) + \\\n",
    "                tf.multiply(self.k, tf.exp(self.y)) + \\\n",
    "                tf.multiply(self.g, tf.exp(self.y*2))/2.0\n",
    "        \n",
    "        # Multivariate Normal Distribution, no need to implement the MLE function\n",
    "        self.mult_norm_dist = tf.contrib.distributions.MultivariateNormalDiag(loc=self.mu, scale_diag=self.sigma)\n",
    "        # the log probability of v \n",
    "        self.log_prob = self.mult_norm_dist.log_prob(self.v)\n",
    "        # tf.square(self.w_1+self.w_2-0.95) -> paper chapter 7 Experiments \n",
    "        self.loss = -tf.reduce_sum(self.log_prob)\n",
    "        \n",
    "        self.train_step = tf.train.AdamOptimizer(learning_rate=learning_rate).minimize(self.loss)\n",
    "        \n",
    "        "
   ]
  },
  {
   "cell_type": "code",
   "execution_count": 73,
   "metadata": {
    "collapsed": true
   },
   "outputs": [],
   "source": [
    "\n",
    "def run_model(model, assets, sig_1, sig_2):\n",
    "\n",
    "    reset_graph()\n",
    "\n",
    "    model = model(assets.shape[1], 0.01)\n",
    "\n",
    "    with tf.Session() as sess:\n",
    "            sess.run(tf.global_variables_initializer())\n",
    "\n",
    "            for i in range(1100):\n",
    "                _,loss  = sess.run([model.train_step, model.loss], \n",
    "                         feed_dict = {\n",
    "                                model.x: assets,\n",
    "                                model.z_1: sig_1,\n",
    "                                model.z_2: sig_2} )\n",
    "                \n",
    "                if i%100 == 0:\n",
    "                    print(\"loss\", loss)\n",
    "            \n",
    "            \n",
    "\n",
    "            theta, delta, k, g = sess.run([model.theta, model.sigma, model.k, model.g], feed_dict = { \n",
    "                model.x: assets, \n",
    "                \n",
    "                model.z_1: sig_1, \n",
    "                model.z_2: sig_2}\n",
    "                                  )\n",
    "            \n",
    "            print()\n",
    "            print(\"theta:\", theta)\n",
    "            print(\"delta:\", delta)\n",
    "            print(\"k:\", k)\n",
    "            print(\"g:\", g)\n",
    "    \n",
    "    return mean_levels"
   ]
  },
  {
   "cell_type": "code",
   "execution_count": 74,
   "metadata": {},
   "outputs": [
    {
     "name": "stdout",
     "output_type": "stream",
     "text": [
      "loss 182573120000000.0\n",
      "loss 727991200.0\n",
      "loss 697040640.0\n",
      "loss 683100600.0\n",
      "loss 671947600.0\n",
      "loss 667412200.0\n",
      "loss 663714560.0\n",
      "loss 658315970.0\n",
      "loss 654600900.0\n",
      "loss 654437200.0\n",
      "loss 650740030.0\n",
      "\n",
      "theta: [0.999995   0.9999976  0.99812365 0.9999978  0.9999985  0.99999833\n",
      " 0.99848914 0.99971706 0.9990651  0.99974763 1.         0.99999815\n",
      " 0.999999   0.99957436 0.9991969  0.97185814 1.0000002  0.99828565\n",
      " 0.99296236 0.94642043 0.959738   0.9999987  0.9720296  0.99979424\n",
      " 0.5718796  0.9983212  0.9999983  0.9999473  0.99974924 0.9999745 ]\n",
      "delta: [3.309517   1.7753448  1.490827   2.127008   3.7270079  2.972592\n",
      " 1.4456012  0.51459074 2.334206   1.0505652  2.9060168  1.4698379\n",
      " 2.9769585  2.1353028  2.620034   0.95785147 3.392444   2.4328341\n",
      " 1.5330924  0.1816716  0.7251418  1.9699159  0.78586614 3.3798058\n",
      " 0.06016935 0.50767636 2.9002986  3.4537618  3.476372   2.5041633 ]\n",
      "k: [5.6854844  4.415414   4.513262   4.9351535  5.878345   4.7603393\n",
      " 4.087988   2.4592676  5.096154   3.097801   4.758635   3.5201404\n",
      " 5.3482566  4.605661   5.006421   3.6826215  5.6027927  5.0411067\n",
      " 4.308202   1.4537201  2.755195   4.2749486  2.8591683  5.0689545\n",
      " 0.21238759 3.0136015  5.4308896  5.122197   5.3509235  4.867964  ]\n",
      "g: [5.744686  4.7518163 4.478614  4.590043  5.981322  5.0087485 3.5538218\n",
      " 2.5429685 4.728201  3.4188    5.3993397 4.1020393 4.6394925 4.599128\n",
      " 4.962713  3.9913027 5.600853  5.151676  3.7527955 2.082434  3.3434951\n",
      " 4.0904465 3.068817  5.7133336 0.7221537 2.5209265 4.9979615 5.1343102\n",
      " 5.150924  5.114405 ]\n"
     ]
    }
   ],
   "source": [
    "stock_assets = df_cap[window_2:] / df_cap.sum(axis=1).mean()\n",
    "short_rolling_pct_chg = short_rolling.pct_change()[window_2:]\n",
    "long_rolling_pct_chg = long_rolling.pct_change()[window_2:]\n",
    "\n",
    "reset_graph()\n",
    "\n",
    "mean_levels = run_model(QED_MLE_Model, stock_assets, short_rolling_pct_chg, long_rolling_pct_chg)"
   ]
  },
  {
   "cell_type": "markdown",
   "metadata": {},
   "source": [
    "## Part 2: Analysis of default rates  (Max 10 point)\n",
    "\n",
    "For a particle in a potential $ V(y) $ with a metastable minimum $ y = a $ and a barrier with a peak located at $ y = b $, the famous Kramers' escape formula gives the following expression for the escape rate $ r $ (see e.g. the book by van Kampen):\n",
    "\n",
    "$$ \n",
    "r = \\frac{\\sqrt{ V''(a) \\left| V''(b) \\right| }}{2 \\pi} \\exp \\left[ - \\frac{2}{\\sigma^2} (V(b) - V(a) ) \\right]\n",
    "$$\n",
    "\n",
    "Here $ V''(a) $ and $ V''(b) $ stand for the second derivatives of the potential $ V(y) $ at the minimum and the maximum, respectively. This formula applies as long as the barrier height $ \\Delta E \\equiv  (V(b) - V(a) \\gg \\frac{\\sigma^2}{2} $. \n",
    "\n",
    "Apply the Kramers formula to the QED potential and parameters that you found in your calibration. What range of values of $ r $ do you obtain? Do these values make sense to you? Can you think how you could use the Kramers relation as a way to regularize your MLE calibration?\n"
   ]
  },
  {
   "cell_type": "markdown",
   "metadata": {},
   "source": [
    "$$\\lambda_1 \\max(y_b-y_0,0)$$"
   ]
  },
  {
   "cell_type": "code",
   "execution_count": 82,
   "metadata": {
    "collapsed": true
   },
   "outputs": [],
   "source": [
    "# Put the rest of your code and analysis for Part 2 here.\n",
    "class QED_MLE_Model_With_Reg:\n",
    "    \n",
    "    def __init__(self, ndim, learning_rate):\n",
    "        # stock assets\n",
    "        self.x = tf.placeholder(tf.float32, [None, ndim], name = 'x')\n",
    "        self.y = tf.log(self.x) # dim 0 days dim 1 stocks\n",
    "        # predictors\n",
    "        self.z_1 = tf.placeholder(tf.float32, [None, ndim], name='z_1')\n",
    "        self.z_2 = tf.placeholder(tf.float32, [None, ndim], name='z_2')\n",
    "        \n",
    "        # k mean reversion speed\n",
    "        self.k = tf.Variable(tf.random_uniform([ndim], minval=0.,maxval=1), name='k') + 0.0001\n",
    "        # variance of each assets(ndim)\n",
    "        self.sigma = tf.Variable(tf.square(tf.random_uniform([ndim], minval=0., maxval=1))) + 0.0001\n",
    "        self.theta = tf.Variable(tf.square(tf.random_uniform([ndim], minval=0., maxval=1))) + 0.0001\n",
    "        self.g = tf.Variable(tf.random_uniform([ndim], minval=0.,maxval=1), name='k') + 0.0001\n",
    "        \n",
    "        self.w_1 = tf.random_normal([ndim], mean=0.5, stddev = 0.1)\n",
    "        self.w_2 = tf.ones([ndim]) - self.w_1\n",
    "        \n",
    "        # mean of all stock assets delta is constant zero\n",
    "        self.mu = tf.zeros([ndim])\n",
    "        \n",
    "        self.scale = tf.slice(self.y, [0,0], [1,-1])\n",
    "\n",
    "        self.z = self.scale * tf.cumprod(1 + self.z_1*self.w_1 + self.z_2*self.w_2)\n",
    "        \n",
    "        self.v = - tf.multiply((self.theta - tf.square(self.theta)/2.0 + self.z), self.y) + \\\n",
    "                tf.multiply(self.k, tf.exp(self.y)) + \\\n",
    "                tf.multiply(self.g, tf.exp(self.y*2))/2.0\n",
    "        \n",
    "        # Multivariate Normal Distribution, no need to implement the MLE function\n",
    "        self.mult_norm_dist = tf.contrib.distributions.MultivariateNormalDiag(loc=self.mu, scale_diag=self.sigma)\n",
    "        # the log probability of v \n",
    "        self.log_prob = self.mult_norm_dist.log_prob(self.v)\n",
    "        # tf.square(self.w_1+self.w_2-0.95) -> paper chapter 7 Experiments \n",
    "        self.loss = -tf.reduce_sum(self.log_prob) + tf.reduce_sum(0.001*tf.maximum(0.005-np.min(self.y), 0 ))\n",
    "        \n",
    "        self.train_step = tf.train.AdamOptimizer(learning_rate=learning_rate).minimize(self.loss)"
   ]
  },
  {
   "cell_type": "code",
   "execution_count": 83,
   "metadata": {},
   "outputs": [
    {
     "name": "stdout",
     "output_type": "stream",
     "text": [
      "loss 182573120000000.0\n",
      "loss 727991360.0\n",
      "loss 697040830.0\n",
      "loss 683100800.0\n",
      "loss 671947800.0\n",
      "loss 667412400.0\n",
      "loss 663714750.0\n",
      "loss 658316160.0\n",
      "loss 654601100.0\n",
      "loss 654437400.0\n",
      "loss 650740200.0\n",
      "\n",
      "theta: [0.999995   0.9999976  0.99812365 0.9999978  0.9999985  0.99999833\n",
      " 0.99848914 0.99971706 0.9990651  0.99974763 1.         0.99999815\n",
      " 0.999999   0.99957436 0.9991969  0.97185814 1.0000002  0.99828565\n",
      " 0.99296236 0.94642043 0.959738   0.9999987  0.9720296  0.99979424\n",
      " 0.5718796  0.9983212  0.9999983  0.9999473  0.99974924 0.9999745 ]\n",
      "delta: [3.309517   1.7753448  1.490827   2.127008   3.7270079  2.972592\n",
      " 1.4456012  0.51459074 2.334206   1.0505652  2.9060168  1.4698379\n",
      " 2.9769585  2.1353028  2.620034   0.95785147 3.392444   2.4328341\n",
      " 1.5330924  0.1816716  0.7251418  1.9699159  0.78586614 3.3798058\n",
      " 0.06016935 0.50767636 2.9002986  3.4537618  3.476372   2.5041633 ]\n",
      "k: [5.6854844  4.415414   4.513262   4.9351535  5.878345   4.7603393\n",
      " 4.087988   2.4592676  5.096154   3.097801   4.758635   3.5201404\n",
      " 5.3482566  4.605661   5.006421   3.6826215  5.6027927  5.0411067\n",
      " 4.308202   1.4537201  2.755195   4.2749486  2.8591683  5.0689545\n",
      " 0.21238759 3.0136015  5.4308896  5.122197   5.3509235  4.867964  ]\n",
      "g: [5.744686  4.7518163 4.478614  4.590043  5.981322  5.0087485 3.5538218\n",
      " 2.5429685 4.728201  3.4188    5.3993397 4.1020393 4.6394925 4.599128\n",
      " 4.962713  3.9913027 5.600853  5.151676  3.7527955 2.082434  3.3434951\n",
      " 4.0904465 3.068817  5.7133336 0.7221537 2.5209265 4.9979615 5.1343102\n",
      " 5.150924  5.114405 ]\n"
     ]
    }
   ],
   "source": [
    "stock_assets = df_cap[window_2:] / df_cap.sum(axis=1).mean()\n",
    "short_rolling_pct_chg = short_rolling.pct_change()[window_2:]\n",
    "long_rolling_pct_chg = long_rolling.pct_change()[window_2:]\n",
    "\n",
    "reset_graph()\n",
    "\n",
    "mean_levels = run_model(QED_MLE_Model_With_Reg, stock_assets, short_rolling_pct_chg, long_rolling_pct_chg)"
   ]
  },
  {
   "cell_type": "markdown",
   "metadata": {},
   "source": [
    "## Part 3: Propose and analyse your own signals  (Max 10 points)\n",
    "\n",
    "In this part, you will experiment with other signals. Propose a signal and explain why it is interesting to \n",
    "include this signal in the portfolio analysis. Then add your favorite signal or signals to the previous benchmarck signals (or alternatively you can replace them), and repeat the analysis of model calibration. State your conclusions.\n"
   ]
  },
  {
   "cell_type": "code",
   "execution_count": 84,
   "metadata": {
    "collapsed": true
   },
   "outputs": [],
   "source": [
    "# Put the rest of your code and analysis for Part 3 here.\n",
    "# Put the rest of your code and analysis for Part 2 here.\n",
    "stock_assets = df_cap[window_2:] / df_cap.sum(axis=1).mean()\n",
    "short_ema = df_cap.ewm(window_1).mean()\n",
    "long_ema = df_cap.ewm(window_2).mean()\n",
    "short_ema_pct_change = short_ema.pct_change()[window_2:]\n",
    "long_ema_pct_change = long_ema.pct_change()[window_2:]\n",
    "\n",
    "reset_graph()"
   ]
  },
  {
   "cell_type": "code",
   "execution_count": 85,
   "metadata": {},
   "outputs": [
    {
     "name": "stdout",
     "output_type": "stream",
     "text": [
      "loss 178187760000000.0\n",
      "loss 708432800.0\n",
      "loss 678417400.0\n",
      "loss 665999500.0\n",
      "loss 654074430.0\n",
      "loss 650760200.0\n",
      "loss 647156900.0\n",
      "loss 640599360.0\n",
      "loss 636509250.0\n",
      "loss 637568640.0\n",
      "loss 632901760.0\n",
      "\n",
      "theta: [0.999995   0.9999976  0.9981251  0.9999978  0.9999985  0.99999833\n",
      " 0.9984888  0.9997176  0.99906605 0.99974793 1.         0.99999815\n",
      " 0.999999   0.9995743  0.99919677 0.9718497  1.0000002  0.9982855\n",
      " 0.9929596  0.9463958  0.9597439  0.9999987  0.972032   0.9997943\n",
      " 0.57187843 0.99832124 0.9999983  0.9999473  0.99974954 0.99997455]\n",
      "delta: [3.3083217  1.7749254  1.4902204  2.1270297  3.7260587  2.9719894\n",
      " 1.4455361  0.5147332  2.3337493  1.0506996  2.9052808  1.4699283\n",
      " 2.9765904  2.134781   2.617355   0.95771897 3.3923216  2.432303\n",
      " 1.5317701  0.18169905 0.7247302  1.9696428  0.7858456  3.379148\n",
      " 0.06016934 0.5075528  2.9001231  3.4534073  3.4754407  2.5042193 ]\n",
      "k: [5.6856375  4.415317   4.5133963  4.9353085  5.8789077  4.7603545\n",
      " 4.087988   2.4591434  5.0962973  3.0979059  4.7587056  3.5203333\n",
      " 5.348496   4.605775   5.0067134  3.6824272  5.6028576  5.0411234\n",
      " 4.308278   1.4532471  2.755459   4.2750244  2.8591483  5.0689497\n",
      " 0.21238588 3.0135908  5.4309034  5.1221232  5.3511767  4.8682423 ]\n",
      "g: [5.7447867  4.751727   4.478546   4.590154   5.9816995  5.0087295\n",
      " 3.5538468  2.542199   4.7281747  3.4187748  5.399374   4.1021957\n",
      " 4.639656   4.599242   4.9628716  3.9911065  5.600911   5.15166\n",
      " 3.7528608  2.0818546  3.3438318  4.090508   3.0687296  5.713285\n",
      " 0.72215194 2.5209107  4.997977   5.134258   5.1508946  5.1145644 ]\n"
     ]
    }
   ],
   "source": [
    "mean_levels = run_model(QED_MLE_Model_With_Reg, stock_assets, short_ema_pct_change, long_ema_pct_change)"
   ]
  },
  {
   "cell_type": "markdown",
   "metadata": {},
   "source": [
    "## Part 4 (Optional): Show me something else (Max 10 points).\n",
    "\n",
    "Here you can develop any additional analysis of the model that you may find interesting (One possible suggestion is \n",
    "presented above, but you should feel free to choose your own topic). Present your case and finding/conclusions.\n"
   ]
  },
  {
   "cell_type": "code",
   "execution_count": 10,
   "metadata": {
    "collapsed": true
   },
   "outputs": [],
   "source": [
    "# Put the rest of your code and analysis for Part 3 here."
   ]
  },
  {
   "cell_type": "code",
   "execution_count": 105,
   "metadata": {},
   "outputs": [
    {
     "data": {
      "text/plain": [
       "Index(['AAPL', 'AXP', 'BA', 'CAT', 'CSCO', 'CVX', 'DIS', 'DWDP', 'GE', 'GS',\n",
       "       'HD', 'IBM', 'INTC', 'JNJ', 'JPM', 'KO', 'MCD', 'MMM', 'MRK', 'MSFT',\n",
       "       'NKE', 'PFE', 'PG', 'TRV', 'UNH', 'UTX', 'V', 'VZ', 'WMT', 'XOM'],\n",
       "      dtype='object')"
      ]
     },
     "execution_count": 105,
     "metadata": {},
     "output_type": "execute_result"
    }
   ],
   "source": [
    "# show pca \n",
    "import datetime\n",
    "asset_returns = df_cap.pct_change(axis='rows').dropna()\n",
    "\n",
    "normed_returns = (asset_returns - asset_returns.mean())/asset_returns.std()\n",
    "\n",
    "\n",
    "normed_returns.columns"
   ]
  },
  {
   "cell_type": "code",
   "execution_count": 91,
   "metadata": {
    "collapsed": true
   },
   "outputs": [],
   "source": [
    "train_end = datetime.datetime(2015, 1, 1) \n",
    "\n",
    "df_train = None\n",
    "df_test = None\n",
    "df_raw_train = None\n",
    "df_raw_test = None\n",
    "\n",
    "df_train = normed_returns[normed_returns.index <= train_end].copy()\n",
    "df_test = normed_returns[normed_returns.index > train_end].copy()\n",
    "\n",
    "df_raw_train = asset_returns[asset_returns.index <= train_end].copy()\n",
    "df_raw_test = asset_returns[asset_returns.index > train_end].copy()"
   ]
  },
  {
   "cell_type": "code",
   "execution_count": 96,
   "metadata": {},
   "outputs": [
    {
     "name": "stdout",
     "output_type": "stream",
     "text": [
      "11 components explain 80.00% of variance\n"
     ]
    }
   ],
   "source": [
    "import sklearn.decomposition\n",
    "import seaborn as sns\n",
    "\n",
    "stock_tickers = normed_returns.columns\n",
    "\n",
    "n_tickers = len(stock_tickers)\n",
    "pca = None\n",
    "cov_matrix = pd.DataFrame(data=np.ones(shape=(n_tickers, n_tickers)), columns=stock_tickers)\n",
    "cov_matrix_raw = cov_matrix\n",
    "\n",
    "if df_train is not None and df_raw_train is not None:\n",
    "    stock_tickers = asset_returns.columns\n",
    "\n",
    "    cov_matrix = df_train[stock_tickers].cov()\n",
    "    cov_matrix_raw = df_raw_train[stock_tickers].cov()\n",
    "    \n",
    "    pca = sklearn.decomposition.PCA().fit(cov_matrix)\n",
    "   \n",
    "   \n",
    "    cov_raw_df = pd.DataFrame({'Variance': np.diag(cov_matrix_raw)}, index=stock_tickers)    \n",
    "    # cumulative variance explained\n",
    "    var_threshold = 0.8\n",
    "    var_explained = np.cumsum(pca.explained_variance_ratio_)\n",
    "    num_comp = np.where(np.logical_not(var_explained < var_threshold))[0][0] + 1  # +1 due to zero based-arrays\n",
    "    print('%d components explain %.2f%% of variance' %(num_comp, 100* var_threshold))"
   ]
  },
  {
   "cell_type": "code",
   "execution_count": 99,
   "metadata": {},
   "outputs": [
    {
     "data": {
      "image/png": "[encoded data removed]",
      "text/plain": [
       "<Figure size 864x288 with 1 Axes>"
      ]
     },
     "metadata": {
      "needs_background": "light"
     },
     "output_type": "display_data"
    }
   ],
   "source": [
    "if pca is not None:\n",
    "    bar_width = 0.9\n",
    "    n_asset = int((8 / 10) * normed_returns.shape[1])\n",
    "    x_indx = np.arange(n_asset)\n",
    "    fig, ax = plt.subplots()\n",
    "    fig.set_size_inches(12, 4)\n",
    "    # Eigenvalues are measured as percentage of explained variance.\n",
    "    rects = ax.bar(x_indx, pca.explained_variance_ratio_[:n_asset], bar_width, color='deepskyblue')\n",
    "    ax.set_xticks(x_indx + bar_width / 2)\n",
    "    ax.set_xticklabels(list(range(n_asset)), rotation=45)\n",
    "    ax.set_title('Percent variance explained')\n",
    "    ax.legend((rects[0],), ('Percent variance explained by principal components',))\n",
    "\n",
    "if pca is not None:\n",
    "    projected = pca.fit_transform(cov_matrix)"
   ]
  },
  {
   "cell_type": "code",
   "execution_count": 107,
   "metadata": {},
   "outputs": [
    {
     "name": "stdout",
     "output_type": "stream",
     "text": [
      "Sum of weights of first eigen-portfolio: 100.00\n"
     ]
    },
    {
     "data": {
      "image/png": "[encoded data removed]",
      "text/plain": [
       "<Figure size 864x432 with 1 Axes>"
      ]
     },
     "metadata": {
      "needs_background": "light"
     },
     "output_type": "display_data"
    }
   ],
   "source": [
    "pc_w = np.zeros(len(stock_tickers))\n",
    "eigen_prtf1 = pd.DataFrame(data ={'weights': pc_w.squeeze()*100}, index = stock_tickers)\n",
    "if pca is not None:\n",
    "    pcs = pca.components_\n",
    "\n",
    "    best_weight_total = pcs[0,:].sum()\n",
    "    # normalized to 1 \n",
    "    pc_w = pcs[0,:]/best_weight_total\n",
    "    \n",
    "    eigen_prtf1 = pd.DataFrame(data ={'weights': pc_w.squeeze()*100}, index = stock_tickers)\n",
    "    eigen_prtf1.sort_values(by=['weights'], ascending=False, inplace=True)\n",
    "    print('Sum of weights of first eigen-portfolio: %.2f' % np.sum(eigen_prtf1))\n",
    "    eigen_prtf1.plot(title='First eigen-portfolio weights', \n",
    "                     figsize=(12,6), \n",
    "                     xticks=range(0, len(stock_tickers),10), \n",
    "                     rot=45, \n",
    "                     linewidth=3)"
   ]
  },
  {
   "cell_type": "code",
   "execution_count": 108,
   "metadata": {
    "collapsed": true
   },
   "outputs": [],
   "source": [
    "def sharpe_ratio(ts_returns, periods_per_year=252):\n",
    "    \"\"\"\n",
    "    sharpe_ratio - Calculates annualized return, annualized vol, and annualized sharpe ratio, \n",
    "                    where sharpe ratio is defined as annualized return divided by annualized volatility \n",
    "                    \n",
    "    Arguments:\n",
    "    ts_returns - pd.Series of returns of a single eigen portfolio\n",
    "    \n",
    "    Return:\n",
    "    a tuple of three doubles: annualized return, volatility, and sharpe ratio\n",
    "    \"\"\"\n",
    "    \n",
    "    annualized_return = 0.\n",
    "    annualized_vol = 0.\n",
    "    annualized_sharpe = 0.\n",
    "\n",
    "    n_years = ts_returns.shape[0]/periods_per_year\n",
    "    annualized_return = np.power(np.prod(1+ts_returns),(1/n_years))-1\n",
    "    annualized_vol = ts_returns.std()*np.sqrt(periods_per_year)\n",
    "    annualized_sharpe = annualized_return/annualized_vol\n",
    "    \n",
    "    return annualized_return, annualized_vol, annualized_sharpe"
   ]
  },
  {
   "cell_type": "code",
   "execution_count": 109,
   "metadata": {},
   "outputs": [
    {
     "name": "stdout",
     "output_type": "stream",
     "text": [
      "First eigen-portfolio:\n",
      "Return = 8.37%\n",
      "Volatility = 14.21%\n",
      "Sharpe = 0.59\n"
     ]
    },
    {
     "data": {
      "image/png": "[encoded data removed]",
      "text/plain": [
       "<Figure size 864x432 with 1 Axes>"
      ]
     },
     "metadata": {
      "needs_background": "light"
     },
     "output_type": "display_data"
    }
   ],
   "source": [
    "if df_raw_test is not None:\n",
    "    eigen_prtf1_returns = np.dot(df_raw_test.loc[:, eigen_prtf1.index], eigen_prtf1 / 100)\n",
    "    eigen_prtf1_returns = pd.Series(eigen_prtf1_returns.squeeze(), index=df_test.index)\n",
    "    er, vol, sharpe = sharpe_ratio(eigen_prtf1_returns)\n",
    "    print('First eigen-portfolio:\\nReturn = %.2f%%\\nVolatility = %.2f%%\\nSharpe = %.2f' % (er*100, vol*100, sharpe))\n",
    "    year_frac = (eigen_prtf1_returns.index[-1] - eigen_prtf1_returns.index[0]).days / 252\n",
    "\n",
    "    df_plot = pd.DataFrame({'PC1': eigen_prtf1_returns}, index=df_test.index)\n",
    "    np.cumprod(df_plot + 1).plot(title='Returns of the market-cap weighted index vs. First eigen-portfolio', \n",
    "                             figsize=(12,6), linewidth=3)"
   ]
  },
  {
   "cell_type": "code",
   "execution_count": null,
   "metadata": {
    "collapsed": true
   },
   "outputs": [],
   "source": []
  }
 ],
 "metadata": {
  "kernelspec": {
   "display_name": "Python 3",
   "language": "python",
   "name": "python3"
  },
  "language_info": {
   "codemirror_mode": {
    "name": "ipython",
    "version": 3
   },
   "file_extension": ".py",
   "mimetype": "text/x-python",
   "name": "python",
   "nbconvert_exporter": "python",
   "pygments_lexer": "ipython3",
   "version": "3.7.1"
  }
 },
 "nbformat": 4,
 "nbformat_minor": 2
}
